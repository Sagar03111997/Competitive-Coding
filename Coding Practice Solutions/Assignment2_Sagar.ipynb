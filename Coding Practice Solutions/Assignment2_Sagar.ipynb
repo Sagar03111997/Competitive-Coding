{
  "metadata": {
    "language_info": {
      "codemirror_mode": {
        "name": "python",
        "version": 3
      },
      "file_extension": ".py",
      "mimetype": "text/x-python",
      "name": "python",
      "nbconvert_exporter": "python",
      "pygments_lexer": "ipython3",
      "version": "3.8"
    },
    "kernelspec": {
      "name": "python",
      "display_name": "Python (Pyodide)",
      "language": "python"
    }
  },
  "nbformat_minor": 4,
  "nbformat": 4,
  "cells": [
    {
      "cell_type": "code",
      "source": "# Problem 1\n\ndef get_max_cherries(input_cake):\n    cherry_count = []\n    for cuts in range(0,len(input_cake)):\n        for internalcuts in range(0,len(input_cake[cuts])):\n            if(input_cake[cuts][internalcuts] == \"#\"):\n                cherry_count.append(input_cake[cuts][internalcuts])\n                \n    max_cherries = len(cherry_count)//2\n\n    return max_cherries\n\ninput_matrix = [['.','#','.'], ['#','.','.'], ['#','#','#'], ['#','.','.']]        \nget_max_cherries(input_matrix)",
      "metadata": {
        "trusted": true
      },
      "execution_count": 59,
      "outputs": [
        {
          "execution_count": 59,
          "output_type": "execute_result",
          "data": {
            "text/plain": "3"
          },
          "metadata": {}
        }
      ]
    },
    {
      "cell_type": "code",
      "source": "# Problem 2\ndef to_set_spy_locations(heights):\n    result = []\n    initial_spy = heights[0]\n    if heights == sorted(heights):\n        for num in heights:\n            result.append(heights.index(num))\n    elif heights == sorted(heights, reverse = True):\n        result.append(heights.index(initial_spy))\n    else:\n        for spies in range(0, len(heights) - 1):\n            if spies == 0 and heights[spies] < heights[spies + 1]:\n                result.append(spies)\n                initial_spy = heights[spies + 1]\n            elif initial_spy > heights[spies + 1]:\n                result.append(spies)\n            else:\n                initial_spy = heights[spies + 1]\n                result.append(spies + 1)\n\n    return list(set(result))\n\nto_set_spy_locations([1, 4, 3, 7, 6, 9, 5, 11])",
      "metadata": {
        "trusted": true
      },
      "execution_count": 61,
      "outputs": [
        {
          "execution_count": 61,
          "output_type": "execute_result",
          "data": {
            "text/plain": "[0, 1, 3, 5, 7]"
          },
          "metadata": {}
        }
      ]
    },
    {
      "cell_type": "code",
      "source": "# Problem 3\n\ndef find_the_winner(input_string,substring):\n    \n    if substring != \"\" and substring in input_string:\n        input_string = input_string.replace(substring,\"\")\n        \n        if(len(input_string)%2 != 0):\n            return(\"Veidt\")\n        elif(len(input_string)%2 == 0):\n            return(\"Walter\")\n\nfind_the_winner(\"abklmnmhij\",\"klmn\")\nfind_the_winner(\"Abcdefghij\",\"cdef\")\nfind_the_winner(\"blaaks\",\"aa\")\n",
      "metadata": {
        "trusted": true
      },
      "execution_count": 3,
      "outputs": [
        {
          "name": "stdout",
          "text": "Walter\nWalter\nWalter\n",
          "output_type": "stream"
        }
      ]
    },
    {
      "cell_type": "code",
      "source": "# Problem 4\n\ndef remove_substring(input_string):\n    substring = \"abc\"\n\n    if input_string != '':\n        if substring in input_string:\n            result_string = input_string.replace(substring, '')\n            return remove_substring(result_string)\n        else:\n            return input_string\n    else:\n        return \"\"\n\n\nremove_substring(\"aababccbc\")",
      "metadata": {
        "trusted": true
      },
      "execution_count": 2,
      "outputs": [
        {
          "execution_count": 2,
          "output_type": "execute_result",
          "data": {
            "text/plain": "''"
          },
          "metadata": {}
        }
      ]
    },
    {
      "cell_type": "code",
      "source": "# problem 5\n\nglobal operationStack\n\ndef flip(input_string):\n    topElement = 0\n    topElement = operationStack.pop()\n    while (topElement != 0):\n        topElement = topElement - 1\n        operationStack.append(topElement)\n\n\ndef get(input_string):\n    return len(operationStack)\n\n\ndef check_flip_game(input_string, queries):\n    result_list = []\n    for i in queries:\n        if i == \"flip\":\n            input_string = flip(input_string)\n        elif (i == \"get\"):\n            result_list.append(get(input_string))\n\n    return result_list\n\n\ndef operation(input_string, queries):\n    stack1 = []\n    stack2 = []\n\n    for i in range(len(input_string)):\n        if input_string[i] == '1':\n            stack1.append(i)\n    for j in range(len(stack1)):\n        stack2.append(stack1.pop())\n    return stack2\n\n\ninput_string = \"000010101111\"\nqueries = [\"get\", \"flip\", \"flip\", \"get\", \"flip\", \"flip\", \"flip\", \"get\"]\noperationStack = operation(input_string, queries)\ncheck_flip_game(input_string, queries)\n",
      "metadata": {
        "trusted": true
      },
      "execution_count": 67,
      "outputs": [
        {
          "execution_count": 67,
          "output_type": "execute_result",
          "data": {
            "text/plain": "[6, 8, 8]"
          },
          "metadata": {}
        }
      ]
    },
    {
      "cell_type": "code",
      "source": "# Problem 6\n\ndef calculate_points (list):\n\n    result_list = []\n    addition = 0\n\n    for char in list:\n        if char.isdigit():\n            result_list.append(int(char))\n        elif \"-\" in char:\n            if float(char) < 0:\n                result_list.append(int(float(char)))\n        elif char == \"I\":\n            result_list.pop()\n        elif char == \"D\":\n            result_list.append(int(result_list[-1]) * 2)\n        elif char == \"+\":\n            operation = int(result_list[-2]) + int(result_list[-1])\n            result_list.append(operation)\n        elif char == \"-\":\n            operation = int(result_list[-2]) - int(result_list[-1])\n            result_list.append(operation)\n        elif char == \"*\":\n            operation = int(result_list[-2]) * int(result_list[-1])\n            result_list.append(operation)\n        elif char == \"/\":\n            operation = int(result_list[-2]) / int(result_list[-1])\n            result_list.append(int(operation))\n        elif char == \"%\":\n            operation = int(result_list[-2]) % int(result_list[-1])\n            result_list.append(int(operation))\n\n    for number in result_list:\n        addition = addition + number\n\n    return addition\n\ncalculate_points([\"5\",\"-2\",\"4\",\"I\",\"D\",\"9\",\"+\",\"/\"])",
      "metadata": {
        "trusted": true
      },
      "execution_count": 65,
      "outputs": [
        {
          "execution_count": 65,
          "output_type": "execute_result",
          "data": {
            "text/plain": "14"
          },
          "metadata": {}
        }
      ]
    },
    {
      "cell_type": "code",
      "source": "class Node:\n    def __init__(self, data):\n        self.data = data\n        self.next = None\n\nclass LinkedList:\n    def __init__(self):\n        self.head = None\n\n    def create_linkedlist(self, new_element):\n        new_node = Node(new_element)\n        if(self.head == None):\n            self.head = new_node\n            return\n        else:\n            temp = self.head\n            while(temp.next != None):\n                temp = temp.next\n            temp.next = new_node\n\n\n    def push_at_specefic_position(self, newElement, position):\n        new_node = Node(newElement)\n        if(position < 1):\n            print(\"\\nposition should be >= 1.\")\n        elif (position == 1):\n            new_node.next = self.head\n            self.head = new_node\n        else:\n            temp = self.head\n            for i in range(1, position-1):\n                if(temp != None):\n                    temp = temp.next\n            if(temp != None):\n                new_node.next = temp.next\n                temp.next = new_node\n            else:\n                print(\"\\nThe previous node is null.\")\n\n    def view_linkedlist(self):\n        temp = self.head\n        if(temp != None):\n            while (temp != None):\n                print(temp.data, end=\" \")\n                temp = temp.next\n            print()\n        else:\n            print(\"The list is empty\")\n\n    def search(self, x):\n        current = self.head\n        while current != None:\n            if current.data == x:\n                # Data found\n                return True\n            current = current.next\n        return  False\n\n\n    def update(self, x, y):\n        current = self.head\n        while current != None:\n            if current.data == x:\n                current.data = y\n            current = current.next\n        return \"No data found\"\n\n    def pop_at_specefic_position(self, position):\n        if (position < 1):\n            return \"\\nposition should be greater than 1\"\n        elif (position == 1 and self.head != None):\n            nodeToDelete = self.head\n            self.head = self.head.next\n            nodeToDelete = None\n        else:\n            temp = self.head\n            for i in range(1, position - 1):\n                if (temp != None):\n                    temp = temp.next\n            if (temp != None and temp.next != None):\n                nodeToDelete = temp.next\n                temp.next = temp.next.next\n                nodeToDelete = None\n            else:\n                return \"The node is already empty\"\n\ndef merge_sorted_linked_List(headA, headB):\n\n    initial_node = Node(0)\n    tail = initial_node\n\n    while True:\n        if headA is None:\n            tail.next = headB\n            break\n        if headB is None:\n            tail.next = headA\n            break\n\n        if headA.data <= headB.data:\n            tail.next = headA\n            headA = headA.next\n        else:\n            tail.next = headB\n            headB = headB.next\n\n        tail = tail.next\n\n    return initial_node.next\n\nlinkedlist = LinkedList()\nlinkedlist.create_linkedlist(10)\nlinkedlist.create_linkedlist(20)\nlinkedlist.create_linkedlist(30)\nlinkedlist.view_linkedlist()\nlinkedlist.push_at_specefic_position(100, 2)\nlinkedlist.view_linkedlist()\nlinkedlist.pop_at_specefic_position(1)\nlinkedlist.view_linkedlist()\nlinkedlist.search(101)\nlinkedlist.update(100, 350)\nlinkedlist.view_linkedlist()\nl1 = LinkedList()\nl2 = LinkedList()\nl1.create_linkedlist(1)\nl1.create_linkedlist(2)\nl1.create_linkedlist(3)\nl1.create_linkedlist(4)\nl1.view_linkedlist()\nl2.create_linkedlist(5)\nl2.create_linkedlist(6)\nl2.create_linkedlist(7)\nl2.create_linkedlist(8)\nl2.create_linkedlist(9)\nl2.view_linkedlist()\nl1.head = merge_sorted_linked_List(l1.head, l2.head)\nl1.view_linkedlist()",
      "metadata": {
        "trusted": true
      },
      "execution_count": 66,
      "outputs": [
        {
          "name": "stdout",
          "text": "10 20 30 \n10 100 20 30 \n100 20 30 \n350 20 30 \n1 2 3 4 \n5 6 7 8 9 \n1 2 3 4 5 6 7 8 9 \n",
          "output_type": "stream"
        }
      ]
    },
    {
      "cell_type": "code",
      "source": "# Problem 8\n\n\ndef job_order_execution(nums):\n    nest = []\n    tunnel = []\n    job = 0\n\n    while len(nums) != 0:\n        if nums[job] == 1 and nums[job] not in nest:\n            nest.append(nums[job])\n            nums.remove(nums[job])\n        else:\n            if (nums[job] - 1) not in nest:\n                if len(tunnel) != 0 and (tunnel[-1] - 1) in nest:\n                    nest.append(tunnel.pop())\n                else:\n                    tunnel.append(nums[job])\n                    nums.remove(nums[job])\n            else:\n                nest.append(nums[job])\n                nums.remove(nums[job])\n    else:\n        if len(tunnel) == 1:\n            nest.append(tunnel.pop())\n            return 1\n        else:\n            while len(tunnel) != 0:\n                if len(tunnel) == 1:\n                    nest.append(tunnel.pop())\n                elif tunnel[-1] < tunnel[-2]:\n                    nest.append(tunnel.pop())\n                else:\n                    return 0\n    return 1\n\njob_order_execution([7, 6, 5, 4, 3, 2, 1])",
      "metadata": {
        "trusted": true
      },
      "execution_count": 40,
      "outputs": [
        {
          "execution_count": 40,
          "output_type": "execute_result",
          "data": {
            "text/plain": "1"
          },
          "metadata": {}
        }
      ]
    },
    {
      "cell_type": "code",
      "source": "",
      "metadata": {
        "trusted": true
      },
      "execution_count": null,
      "outputs": []
    },
    {
      "cell_type": "code",
      "source": "",
      "metadata": {},
      "execution_count": null,
      "outputs": []
    }
  ]
}